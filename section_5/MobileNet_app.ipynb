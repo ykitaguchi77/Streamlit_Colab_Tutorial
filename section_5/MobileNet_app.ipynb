{
  "nbformat": 4,
  "nbformat_minor": 0,
  "metadata": {
    "colab": {
      "name": "02_webapp.ipynb",
      "provenance": [],
      "include_colab_link": true
    },
    "kernelspec": {
      "name": "python3",
      "display_name": "Python 3"
    },
    "language_info": {
      "name": "python"
    }
  },
  "cells": [
    {
      "cell_type": "markdown",
      "metadata": {
        "id": "view-in-github",
        "colab_type": "text"
      },
      "source": [
        "<a href=\"https://colab.research.google.com/github/ykitaguchi77/Streamlit_Colab_Tutorial/blob/main/section_5/MobileNet_app.ipynb\" target=\"_parent\"><img src=\"https://colab.research.google.com/assets/colab-badge.svg\" alt=\"Open In Colab\"/></a>"
      ]
    },
    {
      "cell_type": "markdown",
      "metadata": {
        "id": "8kW_qXJVTjic"
      },
      "source": [
        "# 画像認識アプリ\n",
        "MobileNetV3を用いた画像認識"
      ]
    },
    {
      "cell_type": "markdown",
      "source": [
        "## ●ライブラリのインストール\n",
        "Streamlit、およびアプリの動作の確認に使用する「ngrok」をインストールします。"
      ],
      "metadata": {
        "id": "vRJCuxALcgkb"
      }
    },
    {
      "cell_type": "code",
      "execution_count": 15,
      "metadata": {
        "id": "Pbqipzj3nCy4"
      },
      "outputs": [],
      "source": [
        "!pip install streamlit==1.7.0 --quiet\n",
        "!pip install pyngrok==4.1.1 --quiet"
      ]
    },
    {
      "cell_type": "markdown",
      "source": [
        "Streamlit、およびngrokをインポートしておきます。  \n",
        "エラーが発生する場合は、「ランタイム」→「ランタイムを再起動」によりランタイムを再起動し、再びコードセルを上から順に実行しましょう。"
      ],
      "metadata": {
        "id": "husUkYy5dhZ4"
      }
    },
    {
      "cell_type": "code",
      "source": [
        "import streamlit as st\n",
        "from pyngrok import ngrok"
      ],
      "metadata": {
        "id": "OsHcq-kaDwIi"
      },
      "execution_count": 16,
      "outputs": []
    },
    {
      "cell_type": "markdown",
      "source": [
        "## ●「モデル」を扱うファイル\n",
        "画像認識の訓練済みモデルを読み込み、予測を行うコードを「model.py」に書き込みます。  "
      ],
      "metadata": {
        "id": "KoBcfQYBTUSx"
      }
    },
    {
      "cell_type": "code",
      "source": [
        "#imagenet_classes.txtを作成\n",
        "!pip install shap --quiet\n",
        "import shap\n",
        "import json\n",
        "\n",
        "url = \"https://s3.amazonaws.com/deep-learning-models/image-models/imagenet_class_index.json\"\n",
        "with open(shap.datasets.cache(url)) as file:\n",
        "    class_names = [v[1] for v in json.load(file).values()]\n",
        "\n",
        "with open(\"imagenet_classes.txt\", \"w\") as outfile:\n",
        "    outfile.write(\"\\n\".join(str(item) for item in class_names))\n",
        "     "
      ],
      "metadata": {
        "id": "XRb6ns4A8Ra5"
      },
      "execution_count": 52,
      "outputs": []
    },
    {
      "cell_type": "code",
      "source": [
        "net = timm.create_model(model_name= \"mobilenetv3_large_100\", pretrained=True)  # 訓練済みのモデルを読み込み\n",
        "torch.save(net.state_dict(), 'mobilenetv3.pth')"
      ],
      "metadata": {
        "id": "v1m8Uuar2H3I",
        "outputId": "979890db-ed7d-4d20-94f4-5722d71ad97e",
        "colab": {
          "base_uri": "https://localhost:8080/"
        }
      },
      "execution_count": 53,
      "outputs": [
        {
          "output_type": "stream",
          "name": "stderr",
          "text": [
            "INFO:timm.models.helpers:Loading pretrained weights from url (https://github.com/rwightman/pytorch-image-models/releases/download/v0.1-weights/mobilenetv3_large_100_ra-f55367f5.pth)\n",
            "2022-12-12 10:24:04.562 INFO    timm.models.helpers: Loading pretrained weights from url (https://github.com/rwightman/pytorch-image-models/releases/download/v0.1-weights/mobilenetv3_large_100_ra-f55367f5.pth)\n"
          ]
        }
      ]
    },
    {
      "cell_type": "markdown",
      "source": [
        "動作確認"
      ],
      "metadata": {
        "id": "ULnExVWcA_Vn"
      }
    },
    {
      "cell_type": "code",
      "source": [
        "# download sample image\n",
        "!wget https://www.lamborghini.com/sites/it-en/files/DAM/lamborghini/facelift_2019/model_detail/menu/09_09/menu_asterion.png -O car.png --quiet"
      ],
      "metadata": {
        "id": "FBrfP0J_9xhA"
      },
      "execution_count": 18,
      "outputs": []
    },
    {
      "cell_type": "code",
      "source": [
        "import torch\n",
        "from torchvision import models, transforms\n",
        "from PIL import Image\n",
        "!pip install timm --quiet\n",
        "import timm\n",
        "import matplotlib.pyplot as plt\n",
        "\n",
        "with open(\"imagenet_classes.txt\") as f:  # ラベルの読み込み\n",
        "    classes = [line.strip() for line in f.readlines()]\n",
        "\n",
        "def predict(img):\n",
        "    # 以下の設定はこちらを参考に設定: https://pytorch.org/hub/pytorch_vision_resnet/\n",
        "    transform = transforms.Compose([\n",
        "                                    transforms.Resize(256),\n",
        "                                    transforms.CenterCrop(224),\n",
        "                                    transforms.ToTensor(),\n",
        "                                    transforms.Normalize(\n",
        "                                        mean=[0.485, 0.456, 0.406],\n",
        "                                        std=[0.229, 0.224, 0.225]\n",
        "                                        )\n",
        "                                    ])\n",
        "\n",
        "    net = timm.create_model(model_name= \"mobilenetv3_large_100\", pretrained=False)  # 訓練済みのモデルを読み込み\n",
        "    net.load_state_dict(torch.load(\n",
        "        \"mobilenetv3.pth\", map_location=torch.device(\"cpu\")\n",
        "        ))\n",
        "    # モデルへの入力\n",
        "    img = transform(img)\n",
        "    x = torch.unsqueeze(img, 0)  # バッチ対応\n",
        "\n",
        "    # 予測\n",
        "    net.eval()\n",
        "    y = net(x)\n",
        "\n",
        "    # 結果を返す\n",
        "    y_prob = torch.nn.functional.softmax(torch.squeeze(y))  # 確率で表す\n",
        "    sorted_prob, sorted_indices = torch.sort(y_prob, descending=True)  # 降順にソート\n",
        "    return [(classes[idx], prob.item()) for idx, prob in zip(sorted_indices, sorted_prob)]\n",
        "\n",
        "\n",
        "##############\n",
        "## Interference ##\n",
        "##############\n",
        "\n",
        "#show image\n",
        "img = Image.open(\"/content/car.png\").convert('RGB')\n",
        "plt.imshow(img)\n",
        "plt.show()\n",
        "\n",
        "#predict image\n",
        "predict(img)[:5]"
      ],
      "metadata": {
        "colab": {
          "base_uri": "https://localhost:8080/",
          "height": 350
        },
        "id": "eHnQlhzm8XfH",
        "outputId": "333e6ba0-f965-40fd-e0ea-dc251adde66b"
      },
      "execution_count": 56,
      "outputs": [
        {
          "output_type": "display_data",
          "data": {
            "text/plain": [
              "<Figure size 432x288 with 1 Axes>"
            ],
            "image/png": "[encoded data removed]"
          },
          "metadata": {
            "needs_background": "light"
          }
        },
        {
          "output_type": "stream",
          "name": "stderr",
          "text": [
            "Implicit dimension choice for softmax has been deprecated. Change the call to include dim=X as an argument.\n"
          ]
        },
        {
          "output_type": "execute_result",
          "data": {
            "text/plain": [
              "[('sports_car', 0.6113967299461365),\n",
              " ('car_wheel', 0.08522693812847137),\n",
              " ('convertible', 0.07662561535835266),\n",
              " ('racer', 0.0529690757393837),\n",
              " ('beach_wagon', 0.0090536093339324)]"
            ]
          },
          "metadata": {},
          "execution_count": 56
        }
      ]
    },
    {
      "cell_type": "code",
      "source": [
        "%%writefile model.py\n",
        "# 以下を「model.py」に書き込み\n",
        "import torch\n",
        "from torchvision import models, transforms\n",
        "from PIL import Image\n",
        "import timm\n",
        "import matplotlib.pyplot as plt\n",
        "\n",
        "with open(\"imagenet_classes.txt\") as f:  # ラベルの読み込み\n",
        "    classes = [line.strip() for line in f.readlines()]\n",
        "\n",
        "def predict(img):\n",
        "    # 以下の設定はこちらを参考に設定: https://pytorch.org/hub/pytorch_vision_resnet/\n",
        "    transform = transforms.Compose([\n",
        "                                    transforms.Resize(256),\n",
        "                                    transforms.CenterCrop(224),\n",
        "                                    transforms.ToTensor(),\n",
        "                                    transforms.Normalize(\n",
        "                                        mean=[0.485, 0.456, 0.406],\n",
        "                                        std=[0.229, 0.224, 0.225]\n",
        "                                        )\n",
        "                                    ])\n",
        "\n",
        "    net = timm.create_model(model_name= \"mobilenetv3_large_100\", pretrained=False)  # 訓練済みのモデルを読み込み\n",
        "    net.load_state_dict(torch.load(\n",
        "        \"mobilenetv3.pth\", map_location=torch.device(\"cpu\")\n",
        "        ))\n",
        "    # モデルへの入力\n",
        "    img = transform(img)\n",
        "    x = torch.unsqueeze(img, 0)  # バッチ対応\n",
        "\n",
        "    # 予測\n",
        "    net.eval()\n",
        "    y = net(x)\n",
        "\n",
        "    # 結果を返す\n",
        "    y_prob = torch.nn.functional.softmax(torch.squeeze(y))  # 確率で表す\n",
        "    sorted_prob, sorted_indices = torch.sort(y_prob, descending=True)  # 降順にソート\n",
        "    return [(classes[idx], prob.item()) for idx, prob in zip(sorted_indices, sorted_prob)]\n"
      ],
      "metadata": {
        "id": "nmZpJOe9p6GF",
        "colab": {
          "base_uri": "https://localhost:8080/"
        },
        "outputId": "77a802d3-7892-49f8-88a4-7ce3fb9fc3c6"
      },
      "execution_count": 64,
      "outputs": [
        {
          "output_type": "stream",
          "name": "stdout",
          "text": [
            "Overwriting model.py\n"
          ]
        }
      ]
    },
    {
      "cell_type": "markdown",
      "source": [
        "## ●アプリのコード\n",
        "画像認識アプリのコードを、「app.py」に書き込みます。  \n",
        "ローカルからアップロード、もしくはWebカメラで撮影した画像ファイルに、何が映っているのかを判定します。  \n",
        "なお、Webカメラはngrokが発行したURLではセキュリティ上動作しないので、今回は動作を確認できません。"
      ],
      "metadata": {
        "id": "5fOtVgU5duPe"
      }
    },
    {
      "cell_type": "code",
      "source": [
        "%%writefile app.py\n",
        "# 以下を「app.py」に書き込み\n",
        "import streamlit as st\n",
        "import matplotlib.pyplot as plt\n",
        "from PIL import Image\n",
        "from model import predict\n",
        "\n",
        "st.set_option(\"deprecation.showfileUploaderEncoding\", False)\n",
        "\n",
        "st.sidebar.title(\"画像認識アプリ\")\n",
        "st.sidebar.write(\"ResNetを使って何の画像かを判定します。\")\n",
        "\n",
        "st.sidebar.write(\"\")\n",
        "\n",
        "img_source = st.sidebar.radio(\"画像のソースを選択してください。\",\n",
        "                              (\"画像をアップロード\", \"カメラで撮影\"))\n",
        "if img_source == \"画像をアップロード\":\n",
        "    img_file = st.sidebar.file_uploader(\"画像を選択してください。\", type=[\"png\", \"jpg\"])\n",
        "elif img_source == \"カメラで撮影\":\n",
        "    img_file = st.camera_input(\"カメラで撮影\")\n",
        "\n",
        "if img_file is not None:\n",
        "    with st.spinner(\"推定中...\"):\n",
        "        img = Image.open(img_file).convert('RGB')\n",
        "        st.image(img, caption=\"対象の画像\", width=480)\n",
        "        st.write(\"\")\n",
        "\n",
        "        # 予測\n",
        "        results = predict(img)\n",
        "\n",
        "        # 結果の表示\n",
        "        st.subheader(\"判定結果\")\n",
        "        n_top = 5  # 確率が高い順に5位まで返す\n",
        "        for result in results[:n_top]:\n",
        "            st.write(str(round(result[1]*100, 2)) + \"%の確率で\" + result[0] + \"です。\")\n",
        "\n",
        "        # 円グラフの表示\n",
        "        pie_labels = [result[0] for result in results[:n_top]]\n",
        "        pie_labels.append(\"others\")\n",
        "        pie_probs = [result[1] for result in results[:n_top]]\n",
        "        pie_probs.append(sum([result[1] for result in results[n_top:]]))\n",
        "        fig, ax = plt.subplots()\n",
        "        wedgeprops={\"width\":0.3, \"edgecolor\":\"white\"}\n",
        "        textprops = {\"fontsize\":6}\n",
        "        ax.pie(pie_probs, labels=pie_labels, counterclock=False, startangle=90,\n",
        "               textprops=textprops, autopct=\"%.2f\", wedgeprops=wedgeprops)  # 円グラフ\n",
        "        st.pyplot(fig)"
      ],
      "metadata": {
        "id": "Ntj_BU3bnJli",
        "colab": {
          "base_uri": "https://localhost:8080/"
        },
        "outputId": "fe7b1692-b325-4354-c4b2-cfe7ee07bb47"
      },
      "execution_count": 59,
      "outputs": [
        {
          "output_type": "stream",
          "name": "stdout",
          "text": [
            "Overwriting app.py\n"
          ]
        }
      ]
    },
    {
      "cell_type": "markdown",
      "source": [
        "## ●Authtokenの設定\n",
        "ngrokで接続するために必要な「Authtoken」を設定します。  \n",
        "以下のコードの、  \n",
        "`!ngrok authtoken YourAuthtoken`  \n",
        "における  \n",
        "`YourAuthtoken`の箇所を、自分のAuthtokenに置き換えます。  \n",
        "Authtokenは、ngrokのサイトに登録すれば取得することができます。  \n",
        "https://ngrok.com/\n"
      ],
      "metadata": {
        "id": "j03EsJaHh4KK"
      }
    },
    {
      "cell_type": "code",
      "source": [
        "!ngrok authtoken YourAuthToken"
      ],
      "metadata": {
        "id": "mTfmORj2Dn7-",
        "colab": {
          "base_uri": "https://localhost:8080/"
        },
        "outputId": "78fe8a8f-3ef9-48d4-c191-a6ede832c1aa"
      },
      "execution_count": 60,
      "outputs": [
        {
          "output_type": "stream",
          "name": "stdout",
          "text": [
            "Authtoken saved to configuration file: /root/.ngrok2/ngrok.yml\n"
          ]
        }
      ]
    },
    {
      "cell_type": "markdown",
      "source": [
        "## ●アプリの起動と動作確認\n",
        "streamlitの`run`コマンドでアプリを起動します。\n"
      ],
      "metadata": {
        "id": "CnobL05MkjB1"
      }
    },
    {
      "cell_type": "code",
      "source": [
        "!streamlit run app.py &>/dev/null&  # 「&>/dev/null&」により、出力を非表示にしてバックグランドジョブとして実行"
      ],
      "metadata": {
        "id": "W0jXlMXWK0vi"
      },
      "execution_count": 65,
      "outputs": []
    },
    {
      "cell_type": "markdown",
      "source": [
        "ngrokのプロセスを終了した上で、新たにポートを指定して接続します。  \n",
        "接続の結果、urlを取得できます。  \n",
        "ngrokの無料プランでは同時に1つのプロセスしか動かせないので、エラーが発生した場合は「ランタイム」→「セッションの管理」で不要なGoogle Colabのセッションを修了しましょう。  "
      ],
      "metadata": {
        "id": "W5RLCJ7Sl2x_"
      }
    },
    {
      "cell_type": "code",
      "source": [
        "ngrok.kill()  # プロセスの修了\n",
        "url = ngrok.connect(port=\"8501\")  # 接続"
      ],
      "metadata": {
        "id": "v23ymsdLK3x7",
        "colab": {
          "base_uri": "https://localhost:8080/"
        },
        "outputId": "e81cb1cc-c4e6-48f3-f3c7-bd5cb58aeef9"
      },
      "execution_count": 66,
      "outputs": [
        {
          "output_type": "stream",
          "name": "stderr",
          "text": [
            "INFO:pyngrok.process:Killing ngrok process: 1308\n",
            "2022-12-12 10:29:40.090 INFO    pyngrok.process: Killing ngrok process: 1308\n",
            "INFO:pyngrok.process:ngrok process starting: 1338\n",
            "2022-12-12 10:29:40.167 INFO    pyngrok.process: ngrok process starting: 1338\n",
            "INFO:pyngrok.process:t=2022-12-12T10:29:40+0000 lvl=info msg=\"no configuration paths supplied\"\n",
            "\n",
            "2022-12-12 10:29:40.208 INFO    pyngrok.process: t=2022-12-12T10:29:40+0000 lvl=info msg=\"no configuration paths supplied\"\n",
            "\n",
            "INFO:pyngrok.process:t=2022-12-12T10:29:40+0000 lvl=info msg=\"using configuration at default config path\" path=/root/.ngrok2/ngrok.yml\n",
            "\n",
            "2022-12-12 10:29:40.220 INFO    pyngrok.process: t=2022-12-12T10:29:40+0000 lvl=info msg=\"using configuration at default config path\" path=/root/.ngrok2/ngrok.yml\n",
            "\n",
            "INFO:pyngrok.process:t=2022-12-12T10:29:40+0000 lvl=info msg=\"open config file\" path=/root/.ngrok2/ngrok.yml err=nil\n",
            "\n",
            "2022-12-12 10:29:40.232 INFO    pyngrok.process: t=2022-12-12T10:29:40+0000 lvl=info msg=\"open config file\" path=/root/.ngrok2/ngrok.yml err=nil\n",
            "\n",
            "INFO:pyngrok.process:t=2022-12-12T10:29:40+0000 lvl=info msg=\"starting web service\" obj=web addr=127.0.0.1:4040\n",
            "\n",
            "2022-12-12 10:29:40.241 INFO    pyngrok.process: t=2022-12-12T10:29:40+0000 lvl=info msg=\"starting web service\" obj=web addr=127.0.0.1:4040\n",
            "\n",
            "INFO:pyngrok.process:t=2022-12-12T10:29:40+0000 lvl=info msg=\"tunnel session started\" obj=tunnels.session\n",
            "\n",
            "2022-12-12 10:29:40.807 INFO    pyngrok.process: t=2022-12-12T10:29:40+0000 lvl=info msg=\"tunnel session started\" obj=tunnels.session\n",
            "\n",
            "INFO:pyngrok.process:t=2022-12-12T10:29:40+0000 lvl=info msg=\"client session established\" obj=csess id=0c5207e55367\n",
            "\n",
            "2022-12-12 10:29:40.814 INFO    pyngrok.process: t=2022-12-12T10:29:40+0000 lvl=info msg=\"client session established\" obj=csess id=0c5207e55367\n",
            "\n",
            "INFO:pyngrok.process:ngrok process has started: http://127.0.0.1:4040\n",
            "2022-12-12 10:29:40.824 INFO    pyngrok.process: ngrok process has started: http://127.0.0.1:4040\n",
            "INFO:pyngrok.process:t=2022-12-12T10:29:40+0000 lvl=info msg=start pg=/api/tunnels id=6861a92db769011c\n",
            "\n",
            "2022-12-12 10:29:40.835 INFO    pyngrok.process: t=2022-12-12T10:29:40+0000 lvl=info msg=start pg=/api/tunnels id=6861a92db769011c\n",
            "\n",
            "INFO:pyngrok.process:t=2022-12-12T10:29:40+0000 lvl=info msg=end pg=/api/tunnels id=6861a92db769011c status=200 dur=563.669µs\n",
            "\n",
            "2022-12-12 10:29:40.846 INFO    pyngrok.process: t=2022-12-12T10:29:40+0000 lvl=info msg=end pg=/api/tunnels id=6861a92db769011c status=200 dur=563.669µs\n",
            "\n",
            "INFO:pyngrok.process:t=2022-12-12T10:29:40+0000 lvl=info msg=start pg=/api/tunnels id=a4adc0de409a76ef\n",
            "\n",
            "2022-12-12 10:29:40.853 INFO    pyngrok.process: t=2022-12-12T10:29:40+0000 lvl=info msg=start pg=/api/tunnels id=a4adc0de409a76ef\n",
            "\n",
            "INFO:pyngrok.process:t=2022-12-12T10:29:40+0000 lvl=info msg=end pg=/api/tunnels id=a4adc0de409a76ef status=200 dur=155.03µs\n",
            "\n",
            "2022-12-12 10:29:40.884 INFO    pyngrok.process: t=2022-12-12T10:29:40+0000 lvl=info msg=end pg=/api/tunnels id=a4adc0de409a76ef status=200 dur=155.03µs\n",
            "\n",
            "INFO:pyngrok.process:t=2022-12-12T10:29:40+0000 lvl=info msg=start pg=/api/tunnels id=5e1476de8c805ee6\n",
            "\n",
            "2022-12-12 10:29:40.904 INFO    pyngrok.process: t=2022-12-12T10:29:40+0000 lvl=info msg=start pg=/api/tunnels id=5e1476de8c805ee6\n",
            "\n",
            "INFO:pyngrok.process:t=2022-12-12T10:29:41+0000 lvl=info msg=\"started tunnel\" obj=tunnels name=\"http-8501-4cb2d9bc-2945-45b1-98fa-fdc58da9ab44 (http)\" addr=http://localhost:8501 url=http://6635-35-221-230-185.ngrok.io\n",
            "\n",
            "2022-12-12 10:29:41.233 INFO    pyngrok.process: t=2022-12-12T10:29:41+0000 lvl=info msg=\"started tunnel\" obj=tunnels name=\"http-8501-4cb2d9bc-2945-45b1-98fa-fdc58da9ab44 (http)\" addr=http://localhost:8501 url=http://6635-35-221-230-185.ngrok.io\n",
            "\n",
            "INFO:pyngrok.process:t=2022-12-12T10:29:41+0000 lvl=info msg=\"started tunnel\" obj=tunnels name=http-8501-4cb2d9bc-2945-45b1-98fa-fdc58da9ab44 addr=http://localhost:8501 url=https://6635-35-221-230-185.ngrok.io\n",
            "\n",
            "2022-12-12 10:29:41.241 INFO    pyngrok.process: t=2022-12-12T10:29:41+0000 lvl=info msg=\"started tunnel\" obj=tunnels name=http-8501-4cb2d9bc-2945-45b1-98fa-fdc58da9ab44 addr=http://localhost:8501 url=https://6635-35-221-230-185.ngrok.io\n",
            "\n"
          ]
        }
      ]
    },
    {
      "cell_type": "markdown",
      "source": [
        "urlを表示し、リンク先でアプリが動作することを確認します。"
      ],
      "metadata": {
        "id": "NZ0O_pNan57t"
      }
    },
    {
      "cell_type": "code",
      "source": [
        "print(url)"
      ],
      "metadata": {
        "id": "MIY7ositLAXC",
        "colab": {
          "base_uri": "https://localhost:8080/"
        },
        "outputId": "2f4cb5a3-bf69-4988-812b-2dcdd442afc7"
      },
      "execution_count": 67,
      "outputs": [
        {
          "output_type": "stream",
          "name": "stdout",
          "text": [
            "http://6635-35-221-230-185.ngrok.io\n"
          ]
        }
      ]
    },
    {
      "cell_type": "markdown",
      "source": [
        "## ●requirements.txtの作成\n",
        "Streamlit Cloudのサーバー上でアプリを動かすために、「requirements.txt」を作成する必要があります。  \n",
        "このファイルでは、必要なライブラリのバージョンを指定します。  \n"
      ],
      "metadata": {
        "id": "CCdXdIEWqWM4"
      }
    },
    {
      "cell_type": "markdown",
      "source": [
        "まずは、アプリでimportするライブラリのバージョンを確認します。"
      ],
      "metadata": {
        "id": "9foNw_ipq9Mv"
      }
    },
    {
      "cell_type": "code",
      "source": [
        "import streamlit\n",
        "import torch\n",
        "import torchvision\n",
        "import PIL\n",
        "import matplotlib\n",
        "import timm\n",
        "\n",
        "\n",
        "print(\"streamlit==\" + streamlit.__version__)\n",
        "print(\"torch==\" + torch.__version__)\n",
        "print(\"torchvision==\" + torchvision.__version__)\n",
        "print(\"Pillow==\" + PIL.__version__)\n",
        "print(\"matplotlib==\" + matplotlib.__version__)\n",
        "print(\"timm==\" + timm.__version__)\n"
      ],
      "metadata": {
        "id": "wzvY6S9qrCkD",
        "colab": {
          "base_uri": "https://localhost:8080/"
        },
        "outputId": "7930ea42-ef84-4692-f4a1-7ba068b7e75d"
      },
      "execution_count": 33,
      "outputs": [
        {
          "output_type": "stream",
          "name": "stdout",
          "text": [
            "streamlit==1.7.0\n",
            "torch==1.13.0+cu116\n",
            "torchvision==0.14.0+cu116\n",
            "Pillow==7.1.2\n",
            "matplotlib==3.2.2\n",
            "timm==0.6.12\n"
          ]
        }
      ]
    },
    {
      "cell_type": "markdown",
      "source": [
        "上記を参考に、各ライブラリの望ましいバージョンを記述しrequirements.txtに保存します。"
      ],
      "metadata": {
        "id": "oZ-YlfM8rt76"
      }
    },
    {
      "cell_type": "code",
      "source": [
        "with open(\"requirements.txt\", \"w\") as w:\n",
        "    w.write(\"streamlit==1.8.1\\n\")  # Streamlit Cloud上で動作が確認できたバージョン\n",
        "    w.write(\"torch==1.10.0\\n\")  # Cuda対応は要らないのでcu111は記述しない\n",
        "    w.write(\"torchvision==0.11.1\\n\")  # Cuda対応は要らないのでcu111は記述しない\n",
        "    w.write(\"Pillow==7.1.2\\n\")\n",
        "    w.write(\"matplotlib==3.2.2\\n\")\n",
        "    w.write(\"timm==0.6.12\\n\")"
      ],
      "metadata": {
        "id": "0h-58Ai2OO63"
      },
      "execution_count": 35,
      "outputs": []
    },
    {
      "cell_type": "markdown",
      "source": [
        "以下の作成されたファイルをダウンロードして、GitHubのレポジトリにアップしましょう。\n",
        "* app.py\n",
        "* model.py\n",
        "* requirements.txt"
      ],
      "metadata": {
        "id": "pVNwH5XOtAt-"
      }
    },
    {
      "cell_type": "code",
      "source": [
        "#必要ファイルを圧縮してダウンロード\n",
        "import zipfile\n",
        "list_files = [\"app.py\", \"model.py\", \"requirements.txt\", \"mobilenetv3.pth\"]\n",
        "\n",
        "with zipfile.ZipFile('streamlit.zip', 'w') as zipF:\n",
        "    for file in list_files:\n",
        "        zipF.write(file, compress_type=zipfile.ZIP_DEFLATED)\n",
        "\n",
        "print(f'The {len(list_files)} files has been compressed')"
      ],
      "metadata": {
        "id": "Vtq3o28-x0lk",
        "outputId": "b1ace459-5b19-456c-8962-d62a34857952",
        "colab": {
          "base_uri": "https://localhost:8080/"
        }
      },
      "execution_count": 68,
      "outputs": [
        {
          "output_type": "stream",
          "name": "stdout",
          "text": [
            "The three files has been compressed\n"
          ]
        }
      ]
    },
    {
      "cell_type": "code",
      "source": [
        "from google.colab import files\n",
        "files.download('streamlit.zip')"
      ],
      "metadata": {
        "id": "VGjNu6HcvzP8",
        "outputId": "58a20e76-75ac-41b2-f40d-dc22ff6d643e",
        "colab": {
          "base_uri": "https://localhost:8080/",
          "height": 34
        }
      },
      "execution_count": 69,
      "outputs": [
        {
          "output_type": "display_data",
          "data": {
            "text/plain": [
              "<IPython.core.display.Javascript object>"
            ],
            "application/javascript": [
              "\n",
              "    async function download(id, filename, size) {\n",
              "      if (!google.colab.kernel.accessAllowed) {\n",
              "        return;\n",
              "      }\n",
              "      const div = document.createElement('div');\n",
              "      const label = document.createElement('label');\n",
              "      label.textContent = `Downloading \"${filename}\": `;\n",
              "      div.appendChild(label);\n",
              "      const progress = document.createElement('progress');\n",
              "      progress.max = size;\n",
              "      div.appendChild(progress);\n",
              "      document.body.appendChild(div);\n",
              "\n",
              "      const buffers = [];\n",
              "      let downloaded = 0;\n",
              "\n",
              "      const channel = await google.colab.kernel.comms.open(id);\n",
              "      // Send a message to notify the kernel that we're ready.\n",
              "      channel.send({})\n",
              "\n",
              "      for await (const message of channel.messages) {\n",
              "        // Send a message to notify the kernel that we're ready.\n",
              "        channel.send({})\n",
              "        if (message.buffers) {\n",
              "          for (const buffer of message.buffers) {\n",
              "            buffers.push(buffer);\n",
              "            downloaded += buffer.byteLength;\n",
              "            progress.value = downloaded;\n",
              "          }\n",
              "        }\n",
              "      }\n",
              "      const blob = new Blob(buffers, {type: 'application/binary'});\n",
              "      const a = document.createElement('a');\n",
              "      a.href = window.URL.createObjectURL(blob);\n",
              "      a.download = filename;\n",
              "      div.appendChild(a);\n",
              "      a.click();\n",
              "      div.remove();\n",
              "    }\n",
              "  "
            ]
          },
          "metadata": {}
        },
        {
          "output_type": "display_data",
          "data": {
            "text/plain": [
              "<IPython.core.display.Javascript object>"
            ],
            "application/javascript": [
              "download(\"download_e952fe26-d0cf-4fcc-b89d-57ffebb0db45\", \"streamlit.zip\", 20467185)"
            ]
          },
          "metadata": {}
        }
      ]
    }
  ]
}