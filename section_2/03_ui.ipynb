{
  "nbformat": 4,
  "nbformat_minor": 0,
  "metadata": {
    "colab": {
      "name": "03_ui.ipynb",
      "provenance": [],
      "include_colab_link": true
    },
    "kernelspec": {
      "name": "python3",
      "display_name": "Python 3"
    },
    "language_info": {
      "name": "python"
    }
  },
  "cells": [
    {
      "cell_type": "markdown",
      "metadata": {
        "id": "view-in-github",
        "colab_type": "text"
      },
      "source": [
        "<a href=\"https://colab.research.google.com/github/ykitaguchi77/Streamlit_Colab_Tutorial/blob/main/section_2/03_ui.ipynb\" target=\"_parent\"><img src=\"https://colab.research.google.com/assets/colab-badge.svg\" alt=\"Open In Colab\"/></a>"
      ]
    },
    {
      "cell_type": "markdown",
      "metadata": {
        "id": "8kW_qXJVTjic"
      },
      "source": [
        "# ページのUI\n",
        "Streamlitにおける、ページのUI（ユーザーインターフェイス）の設定方法について学びます。"
      ]
    },
    {
      "cell_type": "markdown",
      "source": [
        "## ●ライブラリのインストール\n",
        "Streamlit、およびアプリの動作の確認に使用する「ngrok」をインストールします。"
      ],
      "metadata": {
        "id": "vRJCuxALcgkb"
      }
    },
    {
      "cell_type": "code",
      "execution_count": 1,
      "metadata": {
        "id": "Pbqipzj3nCy4"
      },
      "outputs": [],
      "source": [
        "!pip install streamlit==1.7.0 --quiet\n",
        "!pip install pyngrok==4.1.1 --quiet"
      ]
    },
    {
      "cell_type": "markdown",
      "source": [
        "Streamlit、およびngrokをインポートしておきます。  \n",
        "エラーが発生する場合は、「ランタイム」→「ランタイムを再起動」によりランタイムを再起動し、再びコードセルを上から順に実行しましょう。"
      ],
      "metadata": {
        "id": "husUkYy5dhZ4"
      }
    },
    {
      "cell_type": "code",
      "source": [
        "import streamlit as st\n",
        "from pyngrok import ngrok"
      ],
      "metadata": {
        "id": "OsHcq-kaDwIi",
        "colab": {
          "base_uri": "https://localhost:8080/"
        },
        "outputId": "5023bdeb-6d1d-4951-f9bd-1ddb58b7ced1"
      },
      "execution_count": 2,
      "outputs": [
        {
          "output_type": "stream",
          "name": "stderr",
          "text": [
            "INFO:numexpr.utils:NumExpr defaulting to 2 threads.\n",
            "2022-12-11 14:32:46.037 INFO    numexpr.utils: NumExpr defaulting to 2 threads.\n"
          ]
        }
      ]
    },
    {
      "cell_type": "markdown",
      "source": [
        "## ●ページのUI\n",
        "様々なUIのコードを、「app.py」に書き込みます。"
      ],
      "metadata": {
        "id": "5fOtVgU5duPe"
      }
    },
    {
      "cell_type": "code",
      "source": [
        "%%writefile app.py\n",
        "# 以下を「app.py」に書き込み\n",
        "import streamlit as st\n",
        "import numpy as np\n",
        "import pandas as pd\n",
        "\n",
        "# ---------- スライダー ----------\n",
        "st.title(\"st.slider()\")\n",
        "x = st.slider(\"xの値\")\n",
        "st.write(str(x) + \"の2乗は\" + str(x**2))\n",
        "\n",
        "# ---------- ボタン ----------\n",
        "st.title(\"st.button()\")\n",
        "if st.button(\"Morning?\"):\n",
        "    st.write(\"Good morinig!\")\n",
        "else:\n",
        "    st.write(\"Helllo!\")\n",
        "\n",
        "# ---------- テキスト入力 ----------\n",
        "st.title(\"st.text_input()\")\n",
        "st.text_input(\"お住まいの国\", key=\"country\")\n",
        "st.session_state.country  # keyでアクセス\n",
        "\n",
        "# ---------- チェックボックス ----------\n",
        "st.title(\"st.checkbox()\")\n",
        "is_agree = st.checkbox(\"同意しますか？\")\n",
        "if is_agree:\n",
        "    st.write(\"了解です！\")\n",
        "else:\n",
        "    st.write(\"残念です！\")\n",
        "\n",
        "# ---------- セレクトボックス ----------\n",
        "st.title(\"st.selectbox()\")\n",
        "df_select = pd.DataFrame({\n",
        "    \"col1\": [11, 12, 13, 14],\n",
        "    \"col2\": [111, 112, 113, 114]\n",
        "    })\n",
        "selected = st.selectbox(\n",
        "    \"どの番号を選びますか？\",\n",
        "     df_select[\"col2\"])\n",
        "st.write(\"あなたは\" + str(selected) + \"番を選びました！\")\n",
        "\n",
        "# ---------- サイドバー ----------\n",
        "st.title(\"st.sidebar\")\n",
        "\n",
        "y = st.sidebar.slider(\"yの値\")\n",
        "st.write(str(y) + \"の2倍は\" + str(y*2))\n",
        "\n",
        "df_side = pd.DataFrame({\n",
        "    \"animal\": [\"犬\", \"猫\", \"兎\", \"象\", \"蛙\"],\n",
        "    \"color\": [\"赤\", \"青\", \"黄\", \"白\", \"黒\"]\n",
        "    })\n",
        "selected_side = st.sidebar.selectbox(\n",
        "    \"どの動物を選びますか？\",\n",
        "     df_side[\"animal\"])\n",
        "st.write(\"あなたは\" + str(selected_side) + \"を選びました！\")"
      ],
      "metadata": {
        "id": "Ntj_BU3bnJli",
        "colab": {
          "base_uri": "https://localhost:8080/"
        },
        "outputId": "7ebab146-0453-45dd-8e34-89fdf434bcaf"
      },
      "execution_count": 3,
      "outputs": [
        {
          "output_type": "stream",
          "name": "stdout",
          "text": [
            "Overwriting app.py\n"
          ]
        }
      ]
    },
    {
      "cell_type": "markdown",
      "source": [
        "## ●Authtokenの設定\n",
        "ngrokで接続するために必要な「Authtoken」を設定します。  \n",
        "以下のコードの、  \n",
        "`!ngrok authtoken YourAuthtoken`  \n",
        "における  \n",
        "`YourAuthtoken`の箇所を、自分のAuthtokenに置き換えます。  \n",
        "Authtokenは、ngrokのサイトに登録すれば取得することができます。  \n",
        "https://ngrok.com/\n"
      ],
      "metadata": {
        "id": "j03EsJaHh4KK"
      }
    },
    {
      "cell_type": "code",
      "source": [
        "!ngrok authtoken YourToken"
      ],
      "metadata": {
        "id": "mTfmORj2Dn7-",
        "colab": {
          "base_uri": "https://localhost:8080/"
        },
        "outputId": "8e7981a6-5b21-4a2c-de13-db9a1cfaaeee"
      },
      "execution_count": 4,
      "outputs": [
        {
          "output_type": "stream",
          "name": "stdout",
          "text": [
            "Authtoken saved to configuration file: /root/.ngrok2/ngrok.yml\n"
          ]
        }
      ]
    },
    {
      "cell_type": "markdown",
      "source": [],
      "metadata": {
        "id": "_n4o57nGmzvE"
      }
    },
    {
      "cell_type": "markdown",
      "source": [
        "## ●アプリの起動と動作確認\n",
        "streamlitの`run`コマンドでアプリを起動します。\n"
      ],
      "metadata": {
        "id": "CnobL05MkjB1"
      }
    },
    {
      "cell_type": "code",
      "source": [
        "!streamlit run app.py &>/dev/null&  # 「&>/dev/null&」により、出力を非表示にしてバックグランドジョブとして実行"
      ],
      "metadata": {
        "id": "W0jXlMXWK0vi"
      },
      "execution_count": 5,
      "outputs": []
    },
    {
      "cell_type": "markdown",
      "source": [
        "ngrokのプロセスを終了した上で、新たにポートを指定して接続します。  \n",
        "接続の結果、urlを取得できます。  \n",
        "ngrokの無料プランでは同時に1つのプロセスしか動かせないので、エラーが発生した場合は「ランタイム」→「セッションの管理」で不要なGoogle Colabのセッションを修了しましょう。  "
      ],
      "metadata": {
        "id": "W5RLCJ7Sl2x_"
      }
    },
    {
      "cell_type": "code",
      "source": [
        "ngrok.kill()  # プロセスの修了\n",
        "url = ngrok.connect(port=\"8501\")  # 接続"
      ],
      "metadata": {
        "id": "v23ymsdLK3x7",
        "colab": {
          "base_uri": "https://localhost:8080/"
        },
        "outputId": "5d56c4e1-8963-4fe9-f948-cf15385b2e35"
      },
      "execution_count": 6,
      "outputs": [
        {
          "output_type": "stream",
          "name": "stderr",
          "text": [
            "INFO:pyngrok.process:ngrok process starting: 303\n",
            "2022-12-11 14:32:47.258 INFO    pyngrok.process: ngrok process starting: 303\n",
            "INFO:pyngrok.process:t=2022-12-11T14:32:47+0000 lvl=info msg=\"no configuration paths supplied\"\n",
            "\n",
            "2022-12-11 14:32:47.287 INFO    pyngrok.process: t=2022-12-11T14:32:47+0000 lvl=info msg=\"no configuration paths supplied\"\n",
            "\n",
            "INFO:pyngrok.process:t=2022-12-11T14:32:47+0000 lvl=info msg=\"using configuration at default config path\" path=/root/.ngrok2/ngrok.yml\n",
            "\n",
            "2022-12-11 14:32:47.291 INFO    pyngrok.process: t=2022-12-11T14:32:47+0000 lvl=info msg=\"using configuration at default config path\" path=/root/.ngrok2/ngrok.yml\n",
            "\n",
            "INFO:pyngrok.process:t=2022-12-11T14:32:47+0000 lvl=info msg=\"open config file\" path=/root/.ngrok2/ngrok.yml err=nil\n",
            "\n",
            "2022-12-11 14:32:47.293 INFO    pyngrok.process: t=2022-12-11T14:32:47+0000 lvl=info msg=\"open config file\" path=/root/.ngrok2/ngrok.yml err=nil\n",
            "\n",
            "INFO:pyngrok.process:t=2022-12-11T14:32:47+0000 lvl=info msg=\"starting web service\" obj=web addr=127.0.0.1:4040\n",
            "\n",
            "2022-12-11 14:32:47.310 INFO    pyngrok.process: t=2022-12-11T14:32:47+0000 lvl=info msg=\"starting web service\" obj=web addr=127.0.0.1:4040\n",
            "\n",
            "INFO:pyngrok.process:t=2022-12-11T14:32:47+0000 lvl=info msg=\"tunnel session started\" obj=tunnels.session\n",
            "\n",
            "2022-12-11 14:32:47.403 INFO    pyngrok.process: t=2022-12-11T14:32:47+0000 lvl=info msg=\"tunnel session started\" obj=tunnels.session\n",
            "\n",
            "INFO:pyngrok.process:t=2022-12-11T14:32:47+0000 lvl=info msg=\"client session established\" obj=csess id=354abccef9f4\n",
            "\n",
            "2022-12-11 14:32:47.406 INFO    pyngrok.process: t=2022-12-11T14:32:47+0000 lvl=info msg=\"client session established\" obj=csess id=354abccef9f4\n",
            "\n",
            "INFO:pyngrok.process:ngrok process has started: http://127.0.0.1:4040\n",
            "2022-12-11 14:32:47.417 INFO    pyngrok.process: ngrok process has started: http://127.0.0.1:4040\n",
            "INFO:pyngrok.process:t=2022-12-11T14:32:47+0000 lvl=info msg=start pg=/api/tunnels id=978f9e27f2124062\n",
            "\n",
            "2022-12-11 14:32:47.442 INFO    pyngrok.process: t=2022-12-11T14:32:47+0000 lvl=info msg=start pg=/api/tunnels id=978f9e27f2124062\n",
            "\n",
            "INFO:pyngrok.process:t=2022-12-11T14:32:47+0000 lvl=info msg=end pg=/api/tunnels id=978f9e27f2124062 status=200 dur=316.43µs\n",
            "\n",
            "2022-12-11 14:32:47.454 INFO    pyngrok.process: t=2022-12-11T14:32:47+0000 lvl=info msg=end pg=/api/tunnels id=978f9e27f2124062 status=200 dur=316.43µs\n",
            "\n",
            "INFO:pyngrok.process:t=2022-12-11T14:32:47+0000 lvl=info msg=start pg=/api/tunnels id=fbcc1629435ccc1b\n",
            "\n",
            "2022-12-11 14:32:47.463 INFO    pyngrok.process: t=2022-12-11T14:32:47+0000 lvl=info msg=start pg=/api/tunnels id=fbcc1629435ccc1b\n",
            "\n",
            "INFO:pyngrok.process:t=2022-12-11T14:32:47+0000 lvl=info msg=end pg=/api/tunnels id=fbcc1629435ccc1b status=200 dur=122.769µs\n",
            "\n",
            "2022-12-11 14:32:47.478 INFO    pyngrok.process: t=2022-12-11T14:32:47+0000 lvl=info msg=end pg=/api/tunnels id=fbcc1629435ccc1b status=200 dur=122.769µs\n",
            "\n",
            "INFO:pyngrok.process:t=2022-12-11T14:32:47+0000 lvl=info msg=start pg=/api/tunnels id=9115447e02cb869a\n",
            "\n",
            "2022-12-11 14:32:47.497 INFO    pyngrok.process: t=2022-12-11T14:32:47+0000 lvl=info msg=start pg=/api/tunnels id=9115447e02cb869a\n",
            "\n",
            "INFO:pyngrok.process:t=2022-12-11T14:32:47+0000 lvl=info msg=\"started tunnel\" obj=tunnels name=\"http-8501-2f7fac8f-ffc8-4c95-98ce-9915a487f7f6 (http)\" addr=http://localhost:8501 url=http://4772-35-188-224-76.ngrok.io\n",
            "\n",
            "2022-12-11 14:32:47.507 INFO    pyngrok.process: t=2022-12-11T14:32:47+0000 lvl=info msg=\"started tunnel\" obj=tunnels name=\"http-8501-2f7fac8f-ffc8-4c95-98ce-9915a487f7f6 (http)\" addr=http://localhost:8501 url=http://4772-35-188-224-76.ngrok.io\n",
            "\n"
          ]
        }
      ]
    },
    {
      "cell_type": "markdown",
      "source": [
        "urlを表示し、リンク先でアプリが動作することを確認します。"
      ],
      "metadata": {
        "id": "NZ0O_pNan57t"
      }
    },
    {
      "cell_type": "code",
      "source": [
        "print(url)"
      ],
      "metadata": {
        "id": "MIY7ositLAXC",
        "colab": {
          "base_uri": "https://localhost:8080/"
        },
        "outputId": "f36dc74f-c2b9-4ac0-9487-41f6eca8a8dc"
      },
      "execution_count": 7,
      "outputs": [
        {
          "output_type": "stream",
          "name": "stdout",
          "text": [
            "http://4772-35-188-224-76.ngrok.io\n"
          ]
        },
        {
          "output_type": "stream",
          "name": "stderr",
          "text": [
            "INFO:pyngrok.process:t=2022-12-11T14:32:47+0000 lvl=info msg=\"started tunnel\" obj=tunnels name=http-8501-2f7fac8f-ffc8-4c95-98ce-9915a487f7f6 addr=http://localhost:8501 url=https://4772-35-188-224-76.ngrok.io\n",
            "\n",
            "2022-12-11 14:32:47.536 INFO    pyngrok.process: t=2022-12-11T14:32:47+0000 lvl=info msg=\"started tunnel\" obj=tunnels name=http-8501-2f7fac8f-ffc8-4c95-98ce-9915a487f7f6 addr=http://localhost:8501 url=https://4772-35-188-224-76.ngrok.io\n",
            "\n"
          ]
        }
      ]
    }
  ]
}