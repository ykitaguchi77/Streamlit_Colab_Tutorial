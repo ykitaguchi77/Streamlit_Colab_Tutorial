{
  "nbformat": 4,
  "nbformat_minor": 0,
  "metadata": {
    "colab": {
      "provenance": [],
      "authorship_tag": "ABX9TyNbEalLr78yUghzdqYNkjma",
      "include_colab_link": true
    },
    "kernelspec": {
      "name": "python3",
      "display_name": "Python 3"
    },
    "language_info": {
      "name": "python"
    }
  },
  "cells": [
    {
      "cell_type": "markdown",
      "metadata": {
        "id": "view-in-github",
        "colab_type": "text"
      },
      "source": [
        "<a href=\"https://colab.research.google.com/github/ykitaguchi77/Streamlit_Colab_Tutorial/blob/main/section_5/Localtunnel.ipynb\" target=\"_parent\"><img src=\"https://colab.research.google.com/assets/colab-badge.svg\" alt=\"Open In Colab\"/></a>"
      ]
    },
    {
      "cell_type": "markdown",
      "source": [
        "#**Localtuunelを用いたStreamlit簡易再生**"
      ],
      "metadata": {
        "id": "mYRBX9F_GzZz"
      }
    },
    {
      "cell_type": "code",
      "execution_count": 3,
      "metadata": {
        "colab": {
          "base_uri": "https://localhost:8080/"
        },
        "id": "tau6wT8G_yzK",
        "outputId": "2dfd5568-4895-4ba2-a037-c6db29c52348"
      },
      "outputs": [
        {
          "output_type": "stream",
          "name": "stdout",
          "text": [
            "\u001b[K     |████████████████████████████████| 9.2 MB 4.9 MB/s \n",
            "\u001b[K     |████████████████████████████████| 4.7 MB 36.8 MB/s \n",
            "\u001b[K     |████████████████████████████████| 182 kB 67.0 MB/s \n",
            "\u001b[K     |████████████████████████████████| 237 kB 63.5 MB/s \n",
            "\u001b[K     |████████████████████████████████| 164 kB 45.3 MB/s \n",
            "\u001b[K     |████████████████████████████████| 78 kB 6.3 MB/s \n",
            "\u001b[K     |████████████████████████████████| 62 kB 1.3 MB/s \n",
            "\u001b[K     |████████████████████████████████| 51 kB 5.1 MB/s \n",
            "\u001b[?25h  Building wheel for validators (setup.py) ... \u001b[?25l\u001b[?25hdone\n",
            "\u001b[K     |████████████████████████████████| 649 kB 5.3 MB/s \n",
            "\u001b[K     |████████████████████████████████| 252 kB 70.9 MB/s \n",
            "\u001b[?25h"
          ]
        }
      ],
      "source": [
        "!pip install streamlit --quiet"
      ]
    },
    {
      "cell_type": "code",
      "source": [
        "%%writefile app.py\n",
        "#以下をapp.pyに書き込み\n",
        "import streamlit as st\n",
        "import numpy as np\n",
        "\n",
        "# streamlitのメソッドでmarkdown形式で表示\n",
        "st.write(\n",
        "    \"\"\"\n",
        "    # My first app\n",
        "    Hello *world!*\n",
        "    \"\"\"\n",
        "    )\n",
        "\n",
        "# 適当なデータ作成\n",
        "data = np.arange(0, 10, 0.1)\n",
        "\n",
        "# streamlitのメソッドでデータを直線グラフに\n",
        "st.line_chart(data)"
      ],
      "metadata": {
        "colab": {
          "base_uri": "https://localhost:8080/"
        },
        "id": "PidsmqY1_0xG",
        "outputId": "f1b4214c-8f59-4d41-a634-7deffdbfefcf"
      },
      "execution_count": 6,
      "outputs": [
        {
          "output_type": "stream",
          "name": "stdout",
          "text": [
            "Overwriting app.py\n"
          ]
        }
      ]
    },
    {
      "cell_type": "markdown",
      "source": [
        "# **Localtunnelを用いて再生確認**"
      ],
      "metadata": {
        "id": "HHwYFVirCTfu"
      }
    },
    {
      "cell_type": "code",
      "source": [
        "from google.colab import files\n",
        "files.view(\"/content\")\n",
        "files.view(\"app.py\")\n",
        "!streamlit run app.py & sleep 3 && npx localtunnel --port 8501\n"
      ],
      "metadata": {
        "colab": {
          "base_uri": "https://localhost:8080/",
          "height": 17
        },
        "id": "eqdAySLaA-c5",
        "outputId": "fa287e8d-a6df-4049-da28-f8f7985256c8"
      },
      "execution_count": 8,
      "outputs": [
        {
          "output_type": "display_data",
          "data": {
            "text/plain": [
              "<IPython.core.display.Javascript object>"
            ],
            "application/javascript": [
              "\n",
              "      ((filepath) => {{\n",
              "        if (!google.colab.kernel.accessAllowed) {{\n",
              "          return;\n",
              "        }}\n",
              "        google.colab.files.view(filepath);\n",
              "      }})(\"/content\")"
            ]
          },
          "metadata": {}
        },
        {
          "output_type": "display_data",
          "data": {
            "text/plain": [
              "<IPython.core.display.Javascript object>"
            ],
            "application/javascript": [
              "\n",
              "      ((filepath) => {{\n",
              "        if (!google.colab.kernel.accessAllowed) {{\n",
              "          return;\n",
              "        }}\n",
              "        google.colab.files.view(filepath);\n",
              "      }})(\"/content/app.py\")"
            ]
          },
          "metadata": {}
        }
      ]
    }
  ]
}